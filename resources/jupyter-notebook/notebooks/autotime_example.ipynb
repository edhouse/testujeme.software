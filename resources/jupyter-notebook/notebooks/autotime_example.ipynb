{
 "cells": [
  {
   "cell_type": "markdown",
   "id": "404d8c98-ea98-4d24-8186-f0560c21c420",
   "metadata": {},
   "source": [
    "# Auto-time extension"
   ]
  },
  {
   "cell_type": "markdown",
   "id": "5aa42785-fa2e-4a9a-b812-4f97c7cb0a63",
   "metadata": {},
   "source": [
    "Load `ipython-autotime` extension to show timestamp and code execution time"
   ]
  },
  {
   "cell_type": "code",
   "execution_count": null,
   "id": "d1c5a6e5-c66c-4725-84d5-f379346ebc2b",
   "metadata": {},
   "outputs": [],
   "source": [
    "%reload_ext autotime"
   ]
  },
  {
   "cell_type": "markdown",
   "id": "3ef71034-8f05-4ec3-a977-f3b49570f74f",
   "metadata": {},
   "source": [
    "## Example 1"
   ]
  },
  {
   "cell_type": "code",
   "execution_count": null,
   "id": "a3f119fc-0d85-4f2f-b35d-1168001333f8",
   "metadata": {},
   "outputs": [],
   "source": [
    "for i in range(1,5):\n",
    "    print(i)"
   ]
  },
  {
   "cell_type": "markdown",
   "id": "61975499-4d1a-43a1-ab58-ccc3eb1dc885",
   "metadata": {},
   "source": [
    "## Example 2"
   ]
  },
  {
   "cell_type": "code",
   "execution_count": null,
   "id": "c3817b1a-8c85-44eb-977a-763f24cb50bd",
   "metadata": {},
   "outputs": [],
   "source": [
    "from time import sleep"
   ]
  },
  {
   "cell_type": "code",
   "execution_count": null,
   "id": "7baff653-dedf-4ab2-893a-4326dc57870a",
   "metadata": {},
   "outputs": [],
   "source": [
    "sleep(5)"
   ]
  },
  {
   "cell_type": "code",
   "execution_count": null,
   "id": "cd67716d-c514-4808-90fe-51406d91f0d9",
   "metadata": {},
   "outputs": [],
   "source": []
  }
 ],
 "metadata": {
  "kernelspec": {
   "display_name": "Python 3 (ipykernel)",
   "language": "python",
   "name": "python3"
  },
  "language_info": {
   "codemirror_mode": {
    "name": "ipython",
    "version": 3
   },
   "file_extension": ".py",
   "mimetype": "text/x-python",
   "name": "python",
   "nbconvert_exporter": "python",
   "pygments_lexer": "ipython3",
   "version": "3.10.10"
  }
 },
 "nbformat": 4,
 "nbformat_minor": 5
}
