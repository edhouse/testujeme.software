{
 "cells": [
  {
   "cell_type": "markdown",
   "id": "1a1a77b8-e462-46e6-98a2-6d4b3c26e9f5",
   "metadata": {},
   "source": [
    "# Read content of a text file"
   ]
  },
  {
   "cell_type": "markdown",
   "id": "0b780ad1-c607-4e68-9c58-4444d18ef2ad",
   "metadata": {},
   "source": [
    "## 1) Define a path of the file\n",
    "\n",
    "Define a variable containing a path for the file as a string. Make sure the file exists or use [os.path.isfile()](https://docs.python.org/3/library/os.path.html#os.path.isfile) for check."
   ]
  },
  {
   "cell_type": "code",
   "execution_count": null,
   "id": "bf3eabfe-af21-4a08-ac65-4ffdd49b5c76",
   "metadata": {},
   "outputs": [],
   "source": [
    "text_file_path = '../files/text_file.txt'"
   ]
  },
  {
   "cell_type": "markdown",
   "id": "d47263d3-4661-4ed0-b44c-c9b9e750d9dc",
   "metadata": {},
   "source": [
    "## 2) Open the file\n",
    "\n",
    "Open the file in reading mode. See [open()](https://docs.python.org/3/library/functions.html#open) documentation for more details. Use flag `r` for opening the file in a reading mode."
   ]
  },
  {
   "cell_type": "code",
   "execution_count": null,
   "id": "bfd4d38f-22eb-4ae5-8b5b-05d75a6f1c05",
   "metadata": {},
   "outputs": [],
   "source": [
    "file = open(text_file_path, 'r')"
   ]
  },
  {
   "cell_type": "markdown",
   "id": "4900e601-25c9-4f88-bb78-25b3426500cb",
   "metadata": {},
   "source": [
    "## 3) Read the file content\n",
    "\n",
    "Read the file and store the content to variable. Check [Python documentation](https://docs.python.org/3/tutorial/inputoutput.html#reading-and-writing-files) for more details."
   ]
  },
  {
   "cell_type": "code",
   "execution_count": null,
   "id": "e83571f0-4c93-48b9-bee6-f307b382ce9f",
   "metadata": {
    "scrolled": true
   },
   "outputs": [],
   "source": [
    "content = file.read()"
   ]
  },
  {
   "cell_type": "markdown",
   "id": "3d238d94-5e05-4244-9181-ebb8d475ff6a",
   "metadata": {},
   "source": [
    "## 4) Print out the content\n",
    "\n",
    "Print out the variable using built-in function [print()](https://docs.python.org/3/library/functions.html#print)."
   ]
  },
  {
   "cell_type": "code",
   "execution_count": null,
   "id": "a2b00562-17bb-4de4-a852-7009de26721d",
   "metadata": {},
   "outputs": [],
   "source": [
    "print(content)"
   ]
  },
  {
   "cell_type": "markdown",
   "id": "7470c527-77da-4b7a-ae0b-067c54486324",
   "metadata": {},
   "source": [
    "## 5) Close the file\n",
    "\n",
    "See [open()](https://docs.python.org/3/library/functions.html#open) documentation for more details"
   ]
  },
  {
   "cell_type": "code",
   "execution_count": null,
   "id": "c8db6b9f-86c8-43f3-b77d-56837e002fb0",
   "metadata": {},
   "outputs": [],
   "source": [
    "file.close()"
   ]
  },
  {
   "cell_type": "code",
   "execution_count": null,
   "id": "312530a1-c532-41e6-90bd-391c527507cf",
   "metadata": {},
   "outputs": [],
   "source": []
  }
 ],
 "metadata": {
  "kernelspec": {
   "display_name": "Python 3 (ipykernel)",
   "language": "python",
   "name": "python3"
  },
  "language_info": {
   "codemirror_mode": {
    "name": "ipython",
    "version": 3
   },
   "file_extension": ".py",
   "mimetype": "text/x-python",
   "name": "python",
   "nbconvert_exporter": "python",
   "pygments_lexer": "ipython3",
   "version": "3.10.10"
  }
 },
 "nbformat": 4,
 "nbformat_minor": 5
}
