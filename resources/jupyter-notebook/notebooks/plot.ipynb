{
 "cells": [
  {
   "cell_type": "markdown",
   "id": "920628ea-5ef0-4171-80f0-0dd48420c287",
   "metadata": {},
   "source": [
    "# Plot examples"
   ]
  },
  {
   "cell_type": "markdown",
   "id": "e2889642-c2ca-4297-9afb-593605937181",
   "metadata": {},
   "source": [
    "## Image"
   ]
  },
  {
   "cell_type": "markdown",
   "id": "548c6d46-912b-4c7f-86a7-d2704d00077c",
   "metadata": {},
   "source": [
    "Load required modules:"
   ]
  },
  {
   "cell_type": "code",
   "execution_count": null,
   "id": "3e309330-52eb-430d-b954-ecbba9172cc2",
   "metadata": {},
   "outputs": [],
   "source": [
    "import matplotlib.pyplot as plt\n",
    "import matplotlib.image as mpimg"
   ]
  },
  {
   "cell_type": "markdown",
   "id": "5ff24ee9-a8eb-4901-ae2a-a5d7e85a67f5",
   "metadata": {},
   "source": [
    "Load the image:"
   ]
  },
  {
   "cell_type": "code",
   "execution_count": null,
   "id": "7b9bbbb2-c07a-478b-9009-2f76a110ae17",
   "metadata": {},
   "outputs": [],
   "source": [
    "img = mpimg.imread('../files/image_file.png')"
   ]
  },
  {
   "cell_type": "markdown",
   "id": "0af3bec1-8cf4-43d8-83c0-000e20dc49bc",
   "metadata": {},
   "source": [
    "Display the image:"
   ]
  },
  {
   "cell_type": "code",
   "execution_count": null,
   "id": "f51e2efb-1648-4230-a6af-6f7b2c7c5694",
   "metadata": {},
   "outputs": [],
   "source": [
    "plt.imshow(img)\n",
    "plt.show()"
   ]
  },
  {
   "cell_type": "markdown",
   "id": "2408e606-0498-483e-b54e-7ad5572151e1",
   "metadata": {},
   "source": [
    "## Pie chart"
   ]
  },
  {
   "cell_type": "markdown",
   "id": "08f4d4bc-4256-43f6-b0fa-41a796e7921c",
   "metadata": {},
   "source": [
    "You don't need to import `matplotlib` since it was imported in a previous example. So you can skip this:"
   ]
  },
  {
   "cell_type": "code",
   "execution_count": null,
   "id": "fa8de113-3c8e-4a96-9871-075bf7faa706",
   "metadata": {},
   "outputs": [],
   "source": [
    "import matplotlib.pyplot as plt"
   ]
  },
  {
   "cell_type": "markdown",
   "id": "673c4048-94bd-4cf4-b033-c32cec0b65ef",
   "metadata": {},
   "source": [
    "Define any data. In this example I created a simple list of test results:"
   ]
  },
  {
   "cell_type": "code",
   "execution_count": null,
   "id": "fcaee77f-48b0-440c-b112-8c967111d321",
   "metadata": {},
   "outputs": [],
   "source": [
    "test_results=[\n",
    "    128, # passed\n",
    "    13,  # failed\n",
    "    27,  # skipped\n",
    "    3    # unknown\n",
    "]"
   ]
  },
  {
   "cell_type": "markdown",
   "id": "7b4889f7-d2a5-48c6-ba13-98ed8f80194f",
   "metadata": {},
   "source": [
    "Now we can create a pie graph and show it:"
   ]
  },
  {
   "cell_type": "code",
   "execution_count": null,
   "id": "9a24fb1b-3508-426b-9a7d-d24111cf69c1",
   "metadata": {},
   "outputs": [],
   "source": [
    "plt.pie(\n",
    "    test_results,\n",
    "    labels=(\"Passed\", \"Failed\", \"Skipped\", \"Unknown\"),\n",
    "    colors = ( \"#8BC34A\", \"#E91E63\", \"#03A9F4\", \"#BDBDBD\")\n",
    ")\n",
    "plt.title('Test results')\n",
    "plt.show()"
   ]
  },
  {
   "cell_type": "markdown",
   "id": "b5498ef5-ef9b-49e8-9192-a8807eef2fd2",
   "metadata": {},
   "source": [
    "## Line chart"
   ]
  },
  {
   "cell_type": "markdown",
   "id": "fcb8b44c-6358-47d5-bc9b-a1e60361e225",
   "metadata": {},
   "source": [
    "Import `pandas`:"
   ]
  },
  {
   "cell_type": "code",
   "execution_count": null,
   "id": "155d7404-f30e-4775-8d1e-181488a13fc3",
   "metadata": {},
   "outputs": [],
   "source": [
    "import pandas as pd"
   ]
  },
  {
   "cell_type": "markdown",
   "id": "df53a039-efdd-4019-9ec7-ee49d0fae47a",
   "metadata": {},
   "source": [
    "Use `pandas` to read a CSV file containing data. In this case some dummy data representing RAM consumption:"
   ]
  },
  {
   "cell_type": "code",
   "execution_count": null,
   "id": "6094ca4f-6a70-4163-9593-5357c303326c",
   "metadata": {},
   "outputs": [],
   "source": [
    "results = pd.read_csv(\"../files/perfmon-results.tsv\")"
   ]
  },
  {
   "cell_type": "markdown",
   "id": "36f74d89-5075-4448-99b1-97a94c3537de",
   "metadata": {},
   "source": [
    "Create a line graph showing the results:"
   ]
  },
  {
   "cell_type": "code",
   "execution_count": null,
   "id": "53b739ef-aa17-4633-83de-f7b9a707a354",
   "metadata": {},
   "outputs": [],
   "source": [
    "x_axis = results['timestamp']\n",
    "y_axis = results['RAM']\n",
    "\n",
    "plt.plot(x_axis, y_axis)\n",
    "plt.title('Performance')\n",
    "plt.xlabel('Timestamp')\n",
    "plt.ylabel('RAM')\n",
    "plt.xticks(rotation=90)\n",
    "plt.show()\n"
   ]
  },
  {
   "cell_type": "code",
   "execution_count": null,
   "id": "100d4565-b3be-45fd-9d4b-9c5fd285ea4b",
   "metadata": {},
   "outputs": [],
   "source": []
  }
 ],
 "metadata": {
  "kernelspec": {
   "display_name": "Python 3 (ipykernel)",
   "language": "python",
   "name": "python3"
  },
  "language_info": {
   "codemirror_mode": {
    "name": "ipython",
    "version": 3
   },
   "file_extension": ".py",
   "mimetype": "text/x-python",
   "name": "python",
   "nbconvert_exporter": "python",
   "pygments_lexer": "ipython3",
   "version": "3.10.10"
  }
 },
 "nbformat": 4,
 "nbformat_minor": 5
}
